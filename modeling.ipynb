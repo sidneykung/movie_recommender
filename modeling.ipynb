{
 "metadata": {
  "language_info": {
   "codemirror_mode": {
    "name": "ipython",
    "version": 3
   },
   "file_extension": ".py",
   "mimetype": "text/x-python",
   "name": "python",
   "nbconvert_exporter": "python",
   "pygments_lexer": "ipython3",
   "version": "3.8.3-final"
  },
  "orig_nbformat": 2,
  "kernelspec": {
   "name": "python3",
   "display_name": "Python 3.8.3 64-bit ('base': conda)",
   "metadata": {
    "interpreter": {
     "hash": "181f68e503c14848ca7b19efffda8e928d91ce23811e7019b779e3a955f1e780"
    }
   }
  }
 },
 "nbformat": 4,
 "nbformat_minor": 2,
 "cells": [
  {
   "source": [
    "# Building Recommendation System"
   ],
   "cell_type": "markdown",
   "metadata": {}
  },
  {
   "source": [
    "To build this model, we'll be using `surprise`, a Python [scikit](https://www.scipy.org/scikits.html) for building and analyzing recommender systems that deal with explicit rating data\n",
    "\n",
    "You can read more about the package in the [documentation](http://surpriselib.com/) here."
   ],
   "cell_type": "markdown",
   "metadata": {}
  },
  {
   "cell_type": "code",
   "execution_count": 7,
   "metadata": {},
   "outputs": [],
   "source": [
    "# ! pip install scikit-surprise"
   ]
  },
  {
   "cell_type": "code",
   "execution_count": 1,
   "metadata": {},
   "outputs": [],
   "source": [
    "import surprise\n",
    "from surprise.model_selection import train_test_split, GridSearchCV, cross_validate\n",
    "from surprise.prediction_algorithms import knns, SVD, SVDpp\n",
    "from surprise.similarities import cosine, msd, pearson\n",
    "from surprise import Dataset, accuracy"
   ]
  },
  {
   "cell_type": "code",
   "execution_count": 2,
   "metadata": {},
   "outputs": [],
   "source": [
    "# load the movielens-100k datase\n",
    "data = Dataset.load_builtin('ml-100k')"
   ]
  },
  {
   "source": [
    "### Singular Value Decomposition (SVD) Model"
   ],
   "cell_type": "markdown",
   "metadata": {}
  },
  {
   "cell_type": "code",
   "execution_count": 3,
   "metadata": {},
   "outputs": [],
   "source": [
    "# SVD algorithm\n",
    "baseline = SVD()"
   ]
  },
  {
   "cell_type": "code",
   "execution_count": 5,
   "metadata": {},
   "outputs": [
    {
     "output_type": "stream",
     "name": "stdout",
     "text": [
      "Evaluating RMSE, MAE of algorithm SVD on 5 split(s).\n\n                  Fold 1  Fold 2  Fold 3  Fold 4  Fold 5  Mean    Std     \nRMSE (testset)    0.9397  0.9410  0.9372  0.9381  0.9320  0.9376  0.0031  \nMAE (testset)     0.7398  0.7424  0.7382  0.7394  0.7366  0.7393  0.0019  \nFit time          4.35    4.72    4.77    5.35    4.77    4.79    0.32    \nTest time         0.14    0.20    0.13    0.20    0.12    0.16    0.03    \nCPU times: user 24.5 s, sys: 270 ms, total: 24.8 s\nWall time: 25.6 s\n"
     ]
    },
    {
     "output_type": "execute_result",
     "data": {
      "text/plain": [
       "{'test_rmse': array([0.93974909, 0.94101397, 0.93723348, 0.93810943, 0.93198663]),\n",
       " 'test_mae': array([0.73977153, 0.74240682, 0.73824987, 0.73943075, 0.73661823]),\n",
       " 'fit_time': (4.352684020996094,\n",
       "  4.717260837554932,\n",
       "  4.7663726806640625,\n",
       "  5.349985837936401,\n",
       "  4.765328884124756),\n",
       " 'test_time': (0.13851690292358398,\n",
       "  0.19866228103637695,\n",
       "  0.131011962890625,\n",
       "  0.20126795768737793,\n",
       "  0.12266206741333008)}"
      ]
     },
     "metadata": {},
     "execution_count": 5
    }
   ],
   "source": [
    "%%time\n",
    "\n",
    "# run 5-fold cross-validation and print results.\n",
    "cross_validate(baseline, data, measures=['RMSE', 'MAE'], cv=5, verbose=True)"
   ]
  }
 ]
}